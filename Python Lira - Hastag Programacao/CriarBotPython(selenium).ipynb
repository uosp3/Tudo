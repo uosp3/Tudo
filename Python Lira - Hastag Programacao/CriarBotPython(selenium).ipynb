{
 "cells": [
  {
   "cell_type": "markdown",
   "id": "c56b780c",
   "metadata": {},
   "source": [
    "# Criar Bot com Python\n",
    "\n",
    "### Bot no Computador - pyautogui"
   ]
  },
  {
   "cell_type": "code",
   "execution_count": null,
   "id": "29c87a41",
   "metadata": {},
   "outputs": [],
   "source": [
    "import pyautogui\n",
    "pyautogui.PAUSE = 2\n",
    "#abrir a ferramenta/o sistema/o programa\n",
    "pyautogui.press(\"win\")\n",
    "pyautogui.write(\"E:\\Cursos\\Tudo\\Python Lira - Hastag Programacao\\Login.xlsx\")\n",
    "pyautogui.press(\"enter\")\n",
    "pyautogui.click(x=1435, y=321)\n",
    "#preencher o login\n",
    "pyautogui.write(\"Edson\")\n",
    "pyautogui.click(x=1437, y=370)\n",
    "#preencher a senha\n",
    "pyautogui.write(\"senha\")\n",
    "#clicar em fazer login\n",
    "pyautogui.click(x=1429, y=472)\n"
   ]
  },
  {
   "cell_type": "code",
   "execution_count": 24,
   "id": "40f52edf",
   "metadata": {},
   "outputs": [
    {
     "data": {
      "text/plain": [
       "Point(x=1429, y=472)"
      ]
     },
     "execution_count": 24,
     "metadata": {},
     "output_type": "execute_result"
    }
   ],
   "source": [
    "import time\n",
    "time.sleep(5)\n",
    "pyautogui.position()"
   ]
  },
  {
   "cell_type": "markdown",
   "id": "d54af9d3",
   "metadata": {},
   "source": [
    "### Bot na Internet - Selenium"
   ]
  },
  {
   "cell_type": "code",
   "execution_count": 43,
   "id": "836a35cd",
   "metadata": {},
   "outputs": [],
   "source": [
    "# chrome -> chromedriver\n",
    "# https://chromedriver.chromium.org/downloads\n",
    "# https://googlechromelabs.github.io/chrome-for-testing/\n",
    "# copiar o chromedriver para onde está instalado o python (C:\\Users\\edson\\AppData\\Local\\Programs\\Python\\Python312)\n",
    "from selenium import webdriver\n",
    "import time\n",
    "navegador = webdriver.Chrome()\n",
    "navegador.get(\"https://login.yahoo.com\")\n",
    "time.sleep(1)\n",
    "navegador.find_element('xpath','//*[@id=\"login-username\"]').send_keys(\"edson_g_santos@yahoo.com.br\")\n",
    "navegador.find_element('xpath','//*[@id=\"login-signin\"]').click()\n",
    "time.sleep(1)\n",
    "\n",
    "navegador.find_element('xpath','//*[@id=\"login-passwd\"]').send_keys(\"Y4h00dsqto8%\")\n",
    "\n",
    "navegador.find_element('xpath','//*[@id=\"login-signin\"]').click()\n",
    "time.sleep(1)\n"
   ]
  },
  {
   "cell_type": "code",
   "execution_count": null,
   "id": "d62d6ca0",
   "metadata": {},
   "outputs": [],
   "source": []
  }
 ],
 "metadata": {
  "kernelspec": {
   "display_name": "Python 3",
   "language": "python",
   "name": "python3"
  },
  "language_info": {
   "codemirror_mode": {
    "name": "ipython",
    "version": 3
   },
   "file_extension": ".py",
   "mimetype": "text/x-python",
   "name": "python",
   "nbconvert_exporter": "python",
   "pygments_lexer": "ipython3",
   "version": "3.12.1"
  }
 },
 "nbformat": 4,
 "nbformat_minor": 5
}
