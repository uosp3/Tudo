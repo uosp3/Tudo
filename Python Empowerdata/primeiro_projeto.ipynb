{
 "cells": [
  {
   "cell_type": "markdown",
   "metadata": {},
   "source": [
    "# Automação de tarefas\n",
    "- buscar automaticamente os dados das ações no site do yahoo\n",
    "- analisar os dados das ações de acordo com a solicitação do gestor\n",
    "- enviar um e-mail com todas análises de forma automática"
   ]
  },
  {
   "cell_type": "markdown",
   "metadata": {},
   "source": [
    "# Passo 1 - buscar automaticamente os dados das ações no site do yahoo\n",
    "pip install yfinance"
   ]
  },
  {
   "cell_type": "code",
   "execution_count": 87,
   "metadata": {},
   "outputs": [],
   "source": [
    "import yfinance\n",
    "codigo = input(\"Digite o código da ação desejada: \") #PETR4.SA é o código para PETROBRAS, ou BBAS3.SA para Banco do Brasil\n",
    "dados = yfinance.Ticker(codigo).history(\"6mo\") #busca dados no yahoo, de 6 meses. Pode usar outros filtros\n",
    "#dados # mostra/pega toda a tabela"
   ]
  },
  {
   "cell_type": "code",
   "execution_count": 88,
   "metadata": {},
   "outputs": [],
   "source": [
    "fechamento = dados.Close #pega apenas a coluna Close\n",
    "#fechamento.plot() # gera um gráfico do que foi carregado na variável, necessário instalar pip install matplotlib "
   ]
  },
  {
   "cell_type": "markdown",
   "metadata": {},
   "source": [
    "# Passo 2 - analisar os dados das ações de acordo com a solicitação do gestor\n",
    "- A análise dos último 6 meses\n",
    "- Cotação máximo\n",
    "- Cotação mínimo\n",
    "- Cotação atual "
   ]
  },
  {
   "cell_type": "code",
   "execution_count": 89,
   "metadata": {},
   "outputs": [],
   "source": [
    "maxima = fechamento.max() # pega a maior cotação\n",
    "minima = fechamento.min() # pega a menor cotação\n",
    "atual = fechamento.iloc[-1] # pega a última linha, que no caso é a atual\n",
    "# parei no instante 01:01:17  https://www.youtube.com/watch?v=RzRSFCGG2FY&t=3"
   ]
  },
  {
   "cell_type": "markdown",
   "metadata": {},
   "source": [
    "# enviar um e-mail com todas análises de forma automática\n",
    "- abrir um nova aba(ctrl+t)\n",
    "- escrever o endereço do gmail + enter\n",
    "- clicar no botão escrever\n",
    "- preencher destinatário + tab\n",
    "- preencher assunto + tab\n",
    "- preencher corpo do email\n",
    "- clicar em enviar"
   ]
  },
  {
   "cell_type": "code",
   "execution_count": 90,
   "metadata": {},
   "outputs": [],
   "source": [
    "#pip install pyautogui\n",
    "#pip install pyperclipbrave\n",
    "import pyautogui\n",
    "import pyperclip\n",
    "\n",
    "#configurando pausa entre os passos\n",
    "pyautogui.PAUSE = 2\n",
    "\n",
    "# Abrir uma nova aba (ctrl+t)\n",
    "#pyautogui.hotkey(\"ctrl\",\"t\")\n",
    "pyautogui.press(\"win\") #press ou hotkey\n",
    "pyautogui.write(\"brave\") #pode ser usado pyperclip.copy conforme abaixo\n",
    "pyautogui.hotkey(\"enter\")\n",
    "\n",
    "# acessar o email.\n",
    "pyperclip.copy(\"https://mail.yahoo.com/d/folders/1?.lang=pt-BR\")\n",
    "pyautogui.hotkey(\"ctrl\", \"v\")\n",
    "pyautogui.hotkey(\"enter\")\n",
    "\n",
    "# fazer o sistema dar um tempo\n",
    "import time\n",
    "#time.sleep(3) #dar tempo para posicionar o mouse e pegar as coordenadas.\n",
    "#pyautogui.position()\n",
    "pyautogui.click(x=105, y=265) #clicar no botão escrever\n",
    "\n",
    "# preencher o destinatário\n",
    "pyperclip.copy(\"email@yahoo.com.br\")\n",
    "pyautogui.hotkey(\"ctrl\", \"v\")"
   ]
  },
  {
   "cell_type": "code",
   "execution_count": 91,
   "metadata": {},
   "outputs": [],
   "source": [
    "#time.sleep(3) #dar tempo para posicionar o mouse e pegar as coordenadas.\n",
    "#pyautogui.position()\n",
    "pyautogui.click(x=552, y=641) #clicar no campo assunto\n",
    "\n",
    "#preencher o assunto\n",
    "pyperclip.copy(\"Analises diárias\")\n",
    "pyautogui.hotkey(\"ctrl\", \"v\")\n",
    "pyautogui.hotkey(\"tab\")"
   ]
  },
  {
   "cell_type": "code",
   "execution_count": 92,
   "metadata": {},
   "outputs": [],
   "source": [
    "# preencher corpo do email\n",
    "mensagem = f\"\"\"\n",
    "Prezado Gestor,\n",
    "\n",
    "Seguem as análises do últimos seis meses da ação {codigo} conforme solicitado:\n",
    "\n",
    "Cotação máxima: R$ {round(maxima,2)}\n",
    "Cotação mínima: R$ {round(minima,2)}\n",
    "Cotação atual: R$ {round(atual,2)}\n",
    "\n",
    "Qualquer dúvida, estou à disposição!\n",
    "\n",
    "Atte.\n",
    "\n",
    "Edson\n",
    "\"\"\"\n",
    "pyperclip.copy(mensagem)\n",
    "pyautogui.hotkey(\"ctrl\", \"v\")\n",
    "\n",
    "#clicar em  enviar\n",
    "pyautogui.click(x=611, y=999)\n"
   ]
  },
  {
   "cell_type": "code",
   "execution_count": 93,
   "metadata": {},
   "outputs": [],
   "source": [
    "#time.sleep(4) #dar tempo para posicionar o mouse e pegar as coordenadas.\n",
    "#pyautogui.position()"
   ]
  }
 ],
 "metadata": {
  "kernelspec": {
   "display_name": "Python 3",
   "language": "python",
   "name": "python3"
  },
  "language_info": {
   "codemirror_mode": {
    "name": "ipython",
    "version": 3
   },
   "file_extension": ".py",
   "mimetype": "text/x-python",
   "name": "python",
   "nbconvert_exporter": "python",
   "pygments_lexer": "ipython3",
   "version": "3.12.1"
  }
 },
 "nbformat": 4,
 "nbformat_minor": 2
}
